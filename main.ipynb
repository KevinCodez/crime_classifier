{
 "cells": [
  {
   "cell_type": "markdown",
   "metadata": {},
   "source": [
    "<h1><center><strong>San Francisco Crime Classification</strong></center></h1>\n",
    "<h3><center>Data Mining | Fall 2023</center></h3>\n",
    "\n",
    "Contributors:\n",
    "- Kevin Reynolds\n",
    "- Shivani Merchant\n",
    "- Kyrsti Fitts\n",
    "- Ryan Espejo"
   ]
  },
  {
   "cell_type": "markdown",
   "metadata": {},
   "source": [
    "# Data Preprocessing"
   ]
  },
  {
   "cell_type": "code",
   "execution_count": null,
   "metadata": {},
   "outputs": [],
   "source": [
    "import pandas as pd\n",
    "from sklearn.preprocessing import LabelEncoder\n",
    "from sklearn.tree import DecisionTreeClassifier\n",
    "import numpy as np\n",
    "import warnings\n",
    "\n",
    "# Silence warnings\n",
    "warnings.filterwarnings('ignore', category=FutureWarning)\n",
    "warnings.filterwarnings('ignore', category=UserWarning)\n",
    "\n",
    "# Load training data and assign names to attributes\n",
    "training_attribute_names = [\"Dates\", \"Category\", \"Descript\", \"DayOfWeek\", \"PdDistrict\", \"Resolution\", \"Address\", \"X\", \"Y\"]\n",
    "training_data = pd.read_csv('data/train.csv', skiprows=1, names=training_attribute_names)\n",
    "\n",
    "# Limit data to prevent crashing\n",
    "# training_data = training_data.sample(n=100000, random_state=24)\n",
    "\n",
    "# Remove irrelevant columns\n",
    "relevant_data = [\"Dates\", \"DayOfWeek\", \"PdDistrict\", \"Address\", \"Category\"]\n",
    "training_data = training_data[relevant_data]\n",
    "training_data.head()\n"
   ]
  },
  {
   "cell_type": "code",
   "execution_count": null,
   "metadata": {},
   "outputs": [],
   "source": [
    "# Load training data and assign names to attributes\n",
    "test_attribute_names = [\"Id\", \"Dates\", \"DayOfWeek\", \"PdDistrict\", \"Address\", \"X\", \"Y\"]\n",
    "test_data = pd.read_csv('data/test.csv', skiprows=1, names=test_attribute_names)\n",
    "\n",
    "# remove duplicates from train and test\n",
    "training_data.drop_duplicates(inplace=True)\n",
    "\n",
    "# Remove IDs from test data. We will copy them and use them later for final output\n",
    "# We won't need them for fitting or predicting, so it's best to remove them for now\n",
    "test_ids = test_data['Id'].copy()\n",
    "test_data.drop('Id', axis=1, inplace=True)\n",
    "\n",
    "test_data.drop('X', axis=1, inplace=True)\n",
    "test_data.drop('Y', axis=1, inplace=True)\n",
    "\n",
    "test_data.head()"
   ]
  },
  {
   "cell_type": "code",
   "execution_count": null,
   "metadata": {},
   "outputs": [],
   "source": [
    "# Convert Dates column to datetime\n",
    "training_data['Dates'] = pd.to_datetime(training_data['Dates'])\n",
    "\n",
    "# Parse date into Year, Month, Hour\n",
    "training_data['Year'] = training_data['Dates'].dt.year\n",
    "training_data['Month'] = training_data['Dates'].dt.month\n",
    "training_data['Hour'] = training_data['Dates'].dt.hour\n",
    "training_data.drop('Dates', axis=1, inplace=True)\n",
    "\n",
    "# Map DayOfWeek to a value between 1-7\n",
    "training_data['DayOfWeek'].replace(to_replace=['Monday', \"Tuesday\", 'Wednesday', 'Thursday', 'Friday', 'Saturday', 'Sunday'], value=[i for i in range(1,8)], inplace=True)\n",
    "\n",
    "training_data.head()"
   ]
  },
  {
   "cell_type": "code",
   "execution_count": null,
   "metadata": {},
   "outputs": [],
   "source": [
    "# Convert Dates column to datetime\n",
    "test_data['Dates'] = pd.to_datetime(test_data['Dates'])\n",
    "\n",
    "# Parse date into Year, Month, Hour\n",
    "test_data['Year'] = test_data['Dates'].dt.year\n",
    "test_data['Month'] = test_data['Dates'].dt.month\n",
    "test_data['Hour'] = test_data['Dates'].dt.hour\n",
    "test_data.drop('Dates', axis=1, inplace=True)\n",
    "\n",
    "# Map DayOfWeek to a value between 1-7\n",
    "test_data['DayOfWeek'].replace(to_replace=['Monday', \"Tuesday\", 'Wednesday', 'Thursday', 'Friday', 'Saturday', 'Sunday'], value=[i for i in range(1,8)], inplace=True)\n",
    "\n",
    "test_data.head()"
   ]
  },
  {
   "cell_type": "code",
   "execution_count": null,
   "metadata": {},
   "outputs": [],
   "source": [
    "# Encode the rest of the columns\n",
    "encoded_training_data = training_data.copy()\n",
    "encoded_test_data = test_data.copy()\n",
    "\n",
    "columns_to_encode = ['Address', 'PdDistrict']\n",
    "\n",
    "for col in columns_to_encode:\n",
    "    combined = pd.concat([encoded_training_data[col], encoded_test_data[col]], axis=0).astype(str)\n",
    "    label_encoder = LabelEncoder().fit(combined)\n",
    "    \n",
    "    encoded_training_data[col] = label_encoder.transform(encoded_training_data[col].astype(str))\n",
    "    encoded_test_data[col] = label_encoder.transform(encoded_test_data[col].astype(str))\n",
    "\n",
    "encoded_training_data.head()\n"
   ]
  },
  {
   "cell_type": "code",
   "execution_count": null,
   "metadata": {},
   "outputs": [],
   "source": [
    "encoded_test_data.head()"
   ]
  },
  {
   "cell_type": "markdown",
   "metadata": {},
   "source": [
    "### Fit Decision Tree"
   ]
  },
  {
   "cell_type": "code",
   "execution_count": null,
   "metadata": {},
   "outputs": [],
   "source": [
    "# Separate targets from training data\n",
    "X_train = encoded_training_data.drop(columns='Category')\n",
    "y_train = training_data['Category']\n",
    "\n",
    "# Encode y_train\n",
    "label_encoder = LabelEncoder()\n",
    "y_train_encoded = label_encoder.fit_transform(y_train)"
   ]
  },
  {
   "cell_type": "code",
   "execution_count": null,
   "metadata": {},
   "outputs": [],
   "source": [
    "# Let it cook\n",
    "model = DecisionTreeClassifier()\n",
    "model.fit(X_train, y_train_encoded)"
   ]
  },
  {
   "cell_type": "markdown",
   "metadata": {},
   "source": [
    "### Predict with Decision Tree"
   ]
  },
  {
   "cell_type": "code",
   "execution_count": null,
   "metadata": {},
   "outputs": [],
   "source": [
    "# Predict categories for the test data\n",
    "predicted_categories_encoded = model.predict(encoded_test_data)"
   ]
  },
  {
   "cell_type": "markdown",
   "metadata": {},
   "source": [
    "## Output"
   ]
  },
  {
   "cell_type": "code",
   "execution_count": null,
   "metadata": {},
   "outputs": [],
   "source": [
    "# Create a DataFrame for the one-hot encoded predictions\n",
    "num_categories = len(label_encoder.classes_)\n",
    "one_hot_predictions = np.zeros((len(predicted_categories_encoded), num_categories), dtype=int)\n",
    "\n",
    "# Populate the appropriate category column with 1s\n",
    "for index, category in enumerate(predicted_categories_encoded):one_hot_predictions[index, category] = 1\n",
    "\n",
    "# Create DataFrame for final output\n",
    "final_output = pd.DataFrame(one_hot_predictions, columns=label_encoder.classes_)\n",
    "final_output.insert(0, 'Id', test_ids.values)\n",
    "\n",
    "# Convert to integer type and print first few rows\n",
    "final_output = final_output.astype(int)\n",
    "\n",
    "final_output.to_csv('data/submission.csv', index=False, header=True)\n",
    "\n",
    "print(final_output.head(20).to_string(index=False, header=False))"
   ]
  },
  {
   "cell_type": "code",
   "execution_count": null,
   "metadata": {},
   "outputs": [],
   "source": [
    "sorted_category_percentages_desc = ((final_output.iloc[:, 1:].sum() / len(final_output)) * 100).sort_values(ascending=False)\n",
    "print(sorted_category_percentages_desc)"
   ]
  },
  {
   "cell_type": "markdown",
   "metadata": {},
   "source": [
    "## Training data crime percentages\n",
    "#### We would expect that our predictions would be distributed similar to these numbers"
   ]
  },
  {
   "cell_type": "code",
   "execution_count": null,
   "metadata": {},
   "outputs": [],
   "source": [
    "category_counts = training_data['Category'].value_counts(normalize=True) * 100\n",
    "print(category_counts);"
   ]
  },
  {
   "cell_type": "markdown",
   "metadata": {},
   "source": [
    "## Crime prediction percentages"
   ]
  },
  {
   "cell_type": "code",
   "execution_count": null,
   "metadata": {},
   "outputs": [],
   "source": [
    "sorted_category_percentages_desc = ((final_output.iloc[:, 1:].sum() / len(final_output)) * 100).sort_values(ascending=False)\n",
    "print(sorted_category_percentages_desc)"
   ]
  }
 ],
 "metadata": {
  "kernelspec": {
   "display_name": "Python 3",
   "language": "python",
   "name": "python3"
  },
  "language_info": {
   "codemirror_mode": {
    "name": "ipython",
    "version": 3
   },
   "file_extension": ".py",
   "mimetype": "text/x-python",
   "name": "python",
   "nbconvert_exporter": "python",
   "pygments_lexer": "ipython3",
   "version": "3.9.5"
  }
 },
 "nbformat": 4,
 "nbformat_minor": 2
}
