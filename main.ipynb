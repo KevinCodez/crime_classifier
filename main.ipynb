{
 "cells": [
  {
   "cell_type": "markdown",
   "metadata": {},
   "source": [
    "<h1><center><strong>San Francisco Crime Classification</strong></center></h1>\n",
    "<h3><center>Data Mining | Fall 2023</center></h3>\n",
    "\n",
    "Contributors:\n",
    "- Kevin Reynolds\n",
    "- Shivani Merchant\n",
    "- Kyrsti Fitts\n",
    "- Ryan Espejo"
   ]
  }
 ],
 "metadata": {
  "language_info": {
   "name": "python"
  }
 },
 "nbformat": 4,
 "nbformat_minor": 2
}
