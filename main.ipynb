{
 "cells": [
  {
   "cell_type": "markdown",
   "metadata": {},
   "source": [
    "<h1><center><strong>San Francisco Crime Classification</strong></center></h1>\n",
    "<h3><center>Data Mining | Fall 2023</center></h3>\n",
    "\n",
    "Contributors:\n",
    "- Kevin Reynolds\n",
    "- Shivani Merchant\n",
    "- Kyrsti Fitts\n",
    "- Ryan Espejo"
   ]
  },
  {
   "cell_type": "markdown",
   "metadata": {},
   "source": [
    "# Data Preprocessing"
   ]
  },
  {
   "cell_type": "code",
   "execution_count": null,
   "metadata": {},
   "outputs": [],
   "source": [
    "import pandas as pd\n",
    "from sklearn.preprocessing import LabelEncoder\n",
    "from sklearn.ensemble import RandomForestClassifier\n",
    "import numpy as np\n",
    "import warnings\n",
    "\n",
    "# Silence warnings\n",
    "warnings.filterwarnings('ignore', category=FutureWarning)\n",
    "warnings.filterwarnings('ignore', category=UserWarning)\n",
    "\n",
    "# Load data \n",
    "training_attribute_names = [\"Dates\", \"Category\", \"Descript\", \"DayOfWeek\", \"PdDistrict\", \"Resolution\", \"Address\", \"X\", \"Y\"]\n",
    "training_data = pd.read_csv('data/train.csv', skiprows=1, names=training_attribute_names)\n",
    "\n",
    "test_attribute_names = [\"Id\", \"Dates\", \"DayOfWeek\", \"PdDistrict\", \"Address\", \"X\", \"Y\"]\n",
    "test_data = pd.read_csv('data/test.csv', skiprows=1, names=test_attribute_names)\n",
    "\n",
    "# Limit data to prevent crashing\n",
    "training_data = training_data.sample(n=25000, random_state=24)\n",
    "test_data = test_data.sample(n=10000, random_state=50)\n",
    "\n",
    "# Remove IDs from test data. We will copy them and use them later for final output\n",
    "# We won't need them for fitting or predicting, so it's best to remove them for now\n",
    "test_ids = test_data['Id'].copy()\n",
    "test_data.drop('Id', axis=1, inplace=True)\n",
    "\n",
    "# Remove irrelevant columns\n",
    "relevant_data = [\"Dates\", \"DayOfWeek\", \"PdDistrict\", \"Address\", \"Category\"]\n",
    "training_data = training_data[relevant_data]\n",
    "\n",
    "# Convert Dates column to datetime\n",
    "training_data['Dates'] = pd.to_datetime(training_data['Dates'])\n",
    "test_data['Dates'] = pd.to_datetime(test_data['Dates'])\n",
    "\n",
    "# Extract relevant features from the Dates column\n",
    "training_data['Year'] = training_data['Dates'].dt.year\n",
    "training_data['Month'] = training_data['Dates'].dt.month\n",
    "training_data['Hour'] = training_data['Dates'].dt.hour\n",
    "training_data.drop('Dates', axis=1, inplace=True)\n",
    "\n",
    "test_data['Year'] = test_data['Dates'].dt.year\n",
    "test_data['Month'] = test_data['Dates'].dt.month\n",
    "test_data['Hour'] = test_data['Dates'].dt.hour\n",
    "test_data.drop('Dates', axis=1, inplace=True)\n",
    "test_data.drop('X', axis=1, inplace=True)\n",
    "test_data.drop('Y', axis=1, inplace=True)\n",
    "\n",
    "# One-hot encode categorical data\n",
    "encoded_training_data = pd.get_dummies(training_data, columns=['Category', 'Address', 'DayOfWeek', 'PdDistrict', 'Year'], prefix=['Category', 'Address', 'DayOfWeek', 'PdDistrict', 'Year'], sparse=True)\n",
    "encoded_test_data = pd.get_dummies(test_data, columns=['Address', 'DayOfWeek', 'PdDistrict', 'Year'], prefix=['Address', 'DayOfWeek', 'PdDistrict', 'Year'], sparse=True)\n",
    "\n",
    "# Match up training data with test data\n",
    "encoded_test_data = test_data.reindex(columns=[col for col in encoded_training_data.columns if 'Category' not in col], fill_value=0)"
   ]
  },
  {
   "cell_type": "markdown",
   "metadata": {},
   "source": [
    "# Fit and Predict with Random Forest"
   ]
  },
  {
   "cell_type": "code",
   "execution_count": null,
   "metadata": {},
   "outputs": [],
   "source": [
    "# Prepare features and target variable\n",
    "X_train = encoded_training_data.drop(columns=[col for col in encoded_training_data if col.startswith('Category')])\n",
    "y_train = encoded_training_data[[col for col in encoded_training_data if col.startswith('Category')]].idxmax(axis=1)\n",
    "\n",
    "# Encode y_train to have categorical labels\n",
    "label_encoder = LabelEncoder()\n",
    "y_train_encoded = label_encoder.fit_transform(training_data['Category'])\n",
    "\n",
    "# Train the model\n",
    "model = RandomForestClassifier(random_state=0)\n",
    "model.fit(X_train, y_train_encoded)"
   ]
  },
  {
   "cell_type": "markdown",
   "metadata": {},
   "source": [
    "# Output"
   ]
  },
  {
   "cell_type": "code",
   "execution_count": null,
   "metadata": {},
   "outputs": [],
   "source": [
    "# Predict categories for the test data\n",
    "predicted_categories_encoded = model.predict(encoded_test_data)\n",
    "\n",
    "# Create a DataFrame for the one-hot encoded predictions\n",
    "num_categories = len(label_encoder.classes_)\n",
    "one_hot_predictions = np.zeros((len(predicted_categories_encoded), num_categories), dtype=int)\n",
    "\n",
    "# Populate the appropriate category column with 1s\n",
    "for idx, category in enumerate(predicted_categories_encoded):one_hot_predictions[idx, category] = 1\n",
    "\n",
    "# Create DataFrame for final output\n",
    "final_output = pd.DataFrame(one_hot_predictions, columns=label_encoder.classes_)\n",
    "final_output.insert(0, 'Id', test_ids.values)\n",
    "\n",
    "# Convert to integer type and print first few rows\n",
    "final_output = final_output.astype(int)\n",
    "print(final_output.head(200).to_string(index=False, header=False))"
   ]
  }
 ],
 "metadata": {
  "kernelspec": {
   "display_name": "Python 3",
   "language": "python",
   "name": "python3"
  },
  "language_info": {
   "codemirror_mode": {
    "name": "ipython",
    "version": 3
   },
   "file_extension": ".py",
   "mimetype": "text/x-python",
   "name": "python",
   "nbconvert_exporter": "python",
   "pygments_lexer": "ipython3",
   "version": "3.9.5"
  }
 },
 "nbformat": 4,
 "nbformat_minor": 2
}
