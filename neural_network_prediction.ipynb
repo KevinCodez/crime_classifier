{
 "cells": [
  {
   "cell_type": "markdown",
   "metadata": {},
   "source": [
    "<h1><center><strong>San Francisco Crime Classification</strong></center></h1>\n",
    "<h3><center>General Prediction</center></h3>\n",
    "<h3>Data Mining | Fall 2023</h3>\n",
    "\n",
    "Contributors:\n",
    "- Kevin Reynolds\n",
    "- Shivani Merchant\n",
    "- Kyrsti Fitts\n",
    "- Ryan Espejo"
   ]
  },
  {
   "cell_type": "markdown",
   "metadata": {},
   "source": [
    "# Data Preprocessing"
   ]
  },
  {
   "cell_type": "code",
   "execution_count": null,
   "metadata": {},
   "outputs": [],
   "source": [
    "import pandas as pd\n",
    "import warnings\n",
    "from sklearn.preprocessing import LabelEncoder\n",
    "from sklearn.neural_network import MLPClassifier\n",
    "from sklearn.metrics import accuracy_score\n",
    "from sklearn.model_selection import train_test_split"
   ]
  },
  {
   "cell_type": "code",
   "execution_count": null,
   "metadata": {},
   "outputs": [],
   "source": [
    "# Silence warnings\n",
    "warnings.filterwarnings('ignore', category=FutureWarning)\n",
    "warnings.filterwarnings('ignore', category=UserWarning)\n",
    "\n",
    "# Load training data and assign names to attributes\n",
    "training_attribute_names = [\"Dates\", \"Category\", \"Descript\", \"DayOfWeek\", \"PdDistrict\", \"Resolution\", \"Address\", \"X\", \"Y\"]\n",
    "training_data = pd.read_csv('data/train.csv', skiprows=1, names=training_attribute_names)\n",
    "\n",
    "# Remove irrelevant columns\n",
    "relevant_data = [\"Dates\", \"PdDistrict\", \"Address\", \"Category\"]\n",
    "training_data = training_data[relevant_data]\n",
    "training_data.head()\n"
   ]
  },
  {
   "cell_type": "code",
   "execution_count": null,
   "metadata": {},
   "outputs": [],
   "source": [
    "# Load training data and assign names to attributes\n",
    "test_attribute_names = [\"Id\", \"Dates\", \"DayOfWeek\", \"PdDistrict\", \"Address\", \"X\", \"Y\"]\n",
    "test_data = pd.read_csv('data/test.csv', skiprows=1, names=test_attribute_names)\n",
    "\n",
    "# remove duplicates from train and test\n",
    "training_data.drop_duplicates(inplace=True)\n",
    "\n",
    "# Remove IDs from test data. We will copy them and use them later for final output\n",
    "test_ids = test_data['Id'].copy()\n",
    "\n",
    "# Drop unwanted data\n",
    "test_data.drop('Id', axis=1, inplace=True)\n",
    "test_data.drop('DayOfWeek', axis=1, inplace=True)\n",
    "test_data.drop('X', axis=1, inplace=True)\n",
    "test_data.drop('Y', axis=1, inplace=True)\n",
    "\n",
    "test_data.head()"
   ]
  },
  {
   "cell_type": "code",
   "execution_count": null,
   "metadata": {},
   "outputs": [],
   "source": [
    "# Convert Dates column to datetime\n",
    "training_data['Dates'] = pd.to_datetime(training_data['Dates'])\n",
    "\n",
    "# Extract hour\n",
    "training_data['Hour'] = training_data['Dates'].dt.hour\n",
    "training_data.drop('Dates', axis=1, inplace=True)\n",
    "\n",
    "training_data.head()"
   ]
  },
  {
   "cell_type": "code",
   "execution_count": null,
   "metadata": {},
   "outputs": [],
   "source": [
    "# Convert Dates column to datetime\n",
    "test_data['Dates'] = pd.to_datetime(test_data['Dates'])\n",
    "\n",
    "# Extract Hour\n",
    "test_data['Hour'] = test_data['Dates'].dt.hour\n",
    "test_data.drop('Dates', axis=1, inplace=True)\n",
    "\n",
    "test_data.head()"
   ]
  },
  {
   "cell_type": "code",
   "execution_count": null,
   "metadata": {},
   "outputs": [],
   "source": [
    "# Encode the rest of the columns\n",
    "encoded_training_data = training_data.copy()\n",
    "encoded_test_data = test_data.copy()\n",
    "\n",
    "columns_to_encode = ['Address', 'PdDistrict']\n",
    "\n",
    "for col in columns_to_encode:\n",
    "    combined = pd.concat([encoded_training_data[col], encoded_test_data[col]], axis=0).astype(str)\n",
    "    label_encoder = LabelEncoder().fit(combined)\n",
    "    \n",
    "    encoded_training_data[col] = label_encoder.transform(encoded_training_data[col].astype(str))\n",
    "    encoded_test_data[col] = label_encoder.transform(encoded_test_data[col].astype(str))\n",
    "\n",
    "encoded_training_data.head()\n"
   ]
  },
  {
   "cell_type": "code",
   "execution_count": null,
   "metadata": {},
   "outputs": [],
   "source": [
    "encoded_test_data.head()"
   ]
  },
  {
   "cell_type": "markdown",
   "metadata": {},
   "source": [
    "### Fit Decision Tree"
   ]
  },
  {
   "cell_type": "code",
   "execution_count": null,
   "metadata": {},
   "outputs": [],
   "source": [
    "# Separate targets from training data\n",
    "X_train = encoded_training_data.drop(columns='Category')\n",
    "y_train = training_data['Category']\n",
    "\n",
    "# Encode y_train\n",
    "label_encoder = LabelEncoder()\n",
    "y_train_encoded = label_encoder.fit_transform(y_train)"
   ]
  },
  {
   "cell_type": "code",
   "execution_count": null,
   "metadata": {},
   "outputs": [],
   "source": [
    "# Let it cook\n",
    "X_train, X_val, y_train_encoded, y_val_encoded = train_test_split(X_train, y_train_encoded, test_size = 0.2, random_state = 0)\n",
    "model = MLPClassifier(hidden_layer_sizes=(100,), max_iter=100, alpha=1e-4, solver='adam', verbose=10, random_state=1, learning_rate_init=.1)\n",
    "model.fit(X_train, y_train_encoded)"
   ]
  },
  {
   "cell_type": "markdown",
   "metadata": {},
   "source": [
    "### Predict with Decision Tree"
   ]
  },
  {
   "cell_type": "code",
   "execution_count": null,
   "metadata": {},
   "outputs": [],
   "source": [
    "# Predict categories for the test data\n",
    "predicted_categories_encoded = model.predict_proba(encoded_test_data)"
   ]
  },
  {
   "cell_type": "markdown",
   "metadata": {},
   "source": [
    "## Output"
   ]
  },
  {
   "cell_type": "code",
   "execution_count": null,
   "metadata": {},
   "outputs": [],
   "source": [
    "# Create a DataFrame for the predicted probabilities\n",
    "num_categories = len(label_encoder.classes_)\n",
    "predicted_categories = label_encoder.classes_\n",
    "predicted_probabilities_df = pd.DataFrame(predicted_categories_encoded, columns=predicted_categories)\n",
    "\n",
    "# Insert 'Id' column\n",
    "predicted_probabilities_df.insert(0, 'Id', test_ids.values)\n",
    "\n",
    "# Round the probabilities\n",
    "predicted_probabilities_df = predicted_probabilities_df.round(2)\n",
    "\n",
    "# Save to CSV\n",
    "predicted_probabilities_df.to_csv('predictions/neural_network.csv', index=False, header=True)"
   ]
  }
 ],
 "metadata": {
  "kernelspec": {
   "display_name": "Python 3.11.4 ('base')",
   "language": "python",
   "name": "python3"
  },
  "language_info": {
   "codemirror_mode": {
    "name": "ipython",
    "version": 3
   },
   "file_extension": ".py",
   "mimetype": "text/x-python",
   "name": "python",
   "nbconvert_exporter": "python",
   "pygments_lexer": "ipython3",
   "version": "3.11.4"
  },
  "vscode": {
   "interpreter": {
    "hash": "60fc5439ba695355cc8729bb4ee6157fed26a6714b279b1c236f34ed06b803ae"
   }
  }
 },
 "nbformat": 4,
 "nbformat_minor": 2
}
