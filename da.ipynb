{
 "cells": [
  {
   "cell_type": "markdown",
   "metadata": {},
   "source": [
    "<h1><center><strong>San Francisco Crime Classification Data Analysis</strong></center></h1>\n",
    "\n",
    "Contributors:\n",
    "- Kevin Reynolds\n",
    "- Shivani Merchant\n",
    "- Kyrsti Fitts\n",
    "- Ryan Espejo"
   ]
  },
  {
   "cell_type": "markdown",
   "metadata": {},
   "source": [
    "# Data Preprocessing "
   ]
  },
  {
   "cell_type": "code",
   "execution_count": null,
   "metadata": {},
   "outputs": [],
   "source": [
    "import pandas as pd\n",
    "import seaborn as sns\n",
    "import matplotlib.pyplot as plt\n",
    "from collections import defaultdict\n",
    "from sklearn.preprocessing import LabelEncoder"
   ]
  },
  {
   "cell_type": "code",
   "execution_count": null,
   "metadata": {},
   "outputs": [],
   "source": [
    "# Load training data and assign names to attributes\n",
    "training_attribute_names = [\"Dates\", \"Category\", \"Descript\", \"DayOfWeek\", \"PdDistrict\", \"Resolution\", \"Address\", \"X\", \"Y\"]\n",
    "training_data = pd.read_csv('data/train.csv', skiprows=1, names=training_attribute_names)\n",
    "\n",
    "training_data.head()"
   ]
  },
  {
   "cell_type": "markdown",
   "metadata": {},
   "source": [
    "Category Correlation Heat Map\n",
    "\n",
    "Using a heat map to show the intensity of correlation between categories"
   ]
  },
  {
   "cell_type": "code",
   "execution_count": null,
   "metadata": {},
   "outputs": [],
   "source": [
    "d = defaultdict(LabelEncoder)\n",
    "train_data_encode = training_data.apply(lambda x: d[x.name].fit_transform(x))\n",
    "train_data_encode = train_data_encode.drop(['X', 'Y'], axis = 1)\n",
    "\n",
    "mat = train_data_encode.corr()\n",
    "f, ax = plt.subplots(figsize=(10, 10))\n",
    "plot2 = sns.heatmap(mat, vmax=.8)\n",
    "plot2.axes.set_title('Correlation Heat Map')\n",
    "plt.show()"
   ]
  },
  {
   "cell_type": "markdown",
   "metadata": {},
   "source": [
    "Category Counts\n",
    "\n",
    "Visualizing the count of crimes by the category and the number of counts in each category with a bar graph"
   ]
  },
  {
   "cell_type": "code",
   "execution_count": null,
   "metadata": {},
   "outputs": [],
   "source": [
    "relevant_data = [\"Dates\", \"DayOfWeek\", \"PdDistrict\", \"Address\", \"Category\"]\n",
    "training_data = training_data[relevant_data]\n",
    "category_counts = training_data['Category'].value_counts(normalize=True) * 100\n",
    "\n",
    "bar_plot = sns.barplot(x=category_counts.index, y=category_counts, color='skyblue')\n",
    "bar_plot.set_xticklabels(category_counts.index, rotation = 90)\n",
    "\n",
    "print(category_counts)"
   ]
  },
  {
   "cell_type": "markdown",
   "metadata": {},
   "source": [
    "Bar Graph to show the amount of crimes now grouped by the district instead of the crime category"
   ]
  },
  {
   "cell_type": "code",
   "execution_count": null,
   "metadata": {},
   "outputs": [],
   "source": [
    "district_counts = training_data['PdDistrict'].value_counts(normalize=True) * 100\n",
    "\n",
    "pd_bar_plot = sns.barplot(x=district_counts.index, y=district_counts, color='skyblue')\n",
    "pd_bar_plot.set_xticklabels(district_counts.index, rotation=90)\n",
    "\n",
    "print(district_counts)"
   ]
  },
  {
   "cell_type": "markdown",
   "metadata": {},
   "source": [
    "Heat map to compare the regularity of crime category with the district"
   ]
  },
  {
   "cell_type": "code",
   "execution_count": null,
   "metadata": {},
   "outputs": [],
   "source": [
    "category_counts = training_data['Category'].value_counts(normalize=True) * 100\n",
    "district_counts = training_data.groupby(['PdDistrict', 'Category']).size().unstack().fillna(0)\n",
    "\n",
    "crime_pivot_table = pd.pivot_table(training_data, index=\"PdDistrict\", columns=\"Category\", aggfunc=len, fill_value=0)[\"Dates\"]\n",
    "\n",
    "crime_pivot_table = crime_pivot_table[category_counts.index]\n",
    "\n",
    "# Plot the heatmap\n",
    "plt.figure(figsize=(14, 10))\n",
    "heatmap = sns.heatmap(crime_pivot_table, cmap='viridis')\n",
    "heatmap.set_xticklabels(heatmap.get_xticklabels(), rotation=45, horizontalalignment='right')\n",
    "heatmap.set_yticklabels(heatmap.get_yticklabels(), rotation=0)\n",
    "plt.title('Number of Crimes per District and Crime Category')\n",
    "plt.show()"
   ]
  },
  {
   "cell_type": "markdown",
   "metadata": {},
   "source": [
    "Bar graph to show the proportion of crimes compared to the hour of the day"
   ]
  },
  {
   "cell_type": "code",
   "execution_count": null,
   "metadata": {},
   "outputs": [],
   "source": [
    "training_data['Dates'] = pd.to_datetime(training_data['Dates'])\n",
    "\n",
    "training_data['Hour'] = training_data['Dates'].dt.hour\n",
    "\n",
    "crimes_by_hour = training_data['Hour'].value_counts(normalize=True) * 100\n",
    "\n",
    "# Plotting the data on a bar chart\n",
    "plt.figure(figsize=(12, 8))\n",
    "crimes_by_hour.plot(kind='bar', color='skyblue')\n",
    "plt.xlabel('Hour of the Day')\n",
    "plt.ylabel('Proportion of Crimes')\n",
    "plt.title('Proportion of Crimes by Hour of the Day')\n",
    "plt.xticks(rotation=0)\n",
    "plt.show()"
   ]
  },
  {
   "cell_type": "markdown",
   "metadata": {},
   "source": [
    "Heat map comparing the hour of the crimes committed with the category of times committed and the frequency of the crimes committed"
   ]
  },
  {
   "cell_type": "code",
   "execution_count": null,
   "metadata": {},
   "outputs": [],
   "source": [
    "training_data['Dates'] = pd.to_datetime(training_data['Dates'])\n",
    "\n",
    "training_data['Hour'] = training_data['Dates'].dt.hour\n",
    "crime_pivot_table_hour = pd.pivot_table(training_data, index=\"Category\", columns=\"Hour\", aggfunc=len, fill_value=0)[\"Dates\"]\n",
    "\n",
    "crime_pivot_table_hour = crime_pivot_table_hour.reindex(sorted(crime_pivot_table_hour.columns), axis=1)\n",
    "\n",
    "# Plot the heatmap\n",
    "plt.figure(figsize=(14, 10))\n",
    "heatmap_hour = sns.heatmap(crime_pivot_table_hour, cmap='viridis')\n",
    "heatmap_hour.set_xticklabels(heatmap_hour.get_xticklabels(), rotation=45, horizontalalignment='right')\n",
    "heatmap_hour.set_yticklabels(heatmap_hour.get_yticklabels(), rotation=0)\n",
    "plt.title('Number of Crimes per Crime Category and Hour of the Day')\n",
    "plt.show()"
   ]
  },
  {
   "cell_type": "markdown",
   "metadata": {},
   "source": [
    "Heat map comparing the police district with the hour of the crime committed and the frequency of the crimes"
   ]
  },
  {
   "cell_type": "code",
   "execution_count": null,
   "metadata": {},
   "outputs": [],
   "source": [
    "training_data['Dates'] = pd.to_datetime(training_data['Dates'])\n",
    "training_data['Hour'] = training_data['Dates'].dt.hour\n",
    "\n",
    "crime_pivot_table_district_hour = pd.pivot_table(training_data, index=\"PdDistrict\", columns=\"Hour\", aggfunc=len, fill_value=0)[\"Dates\"]\n",
    "crime_pivot_table_district_hour = crime_pivot_table_district_hour.reindex(sorted(crime_pivot_table_district_hour.columns), axis=1)\n",
    "\n",
    "# Plot the heatmap\n",
    "plt.figure(figsize=(14, 10))\n",
    "heatmap_district_hour = sns.heatmap(crime_pivot_table_district_hour, cmap='viridis')\n",
    "heatmap_district_hour.set_xticklabels(heatmap_district_hour.get_xticklabels(), rotation=45, horizontalalignment='right')\n",
    "heatmap_district_hour.set_yticklabels(heatmap_district_hour.get_yticklabels(), rotation=0)\n",
    "plt.title('Number of Crimes per Police District and Hour of the Day')\n",
    "plt.show()"
   ]
  },
  {
   "cell_type": "markdown",
   "metadata": {},
   "source": [
    "Bar chart comparing the number of crimes committed and the day of the week"
   ]
  },
  {
   "cell_type": "code",
   "execution_count": null,
   "metadata": {},
   "outputs": [],
   "source": [
    "training_data['Dates'] = pd.to_datetime(training_data['Dates'])\n",
    "training_data['DayOfWeek'] = training_data['Dates'].dt.day_name()\n",
    "crimes_by_day_of_week = training_data['DayOfWeek'].value_counts().sort_index()\n",
    "\n",
    "# Plotting the data on a bar chart\n",
    "plt.figure(figsize=(10, 6))\n",
    "sns.barplot(x=crimes_by_day_of_week.index, y=crimes_by_day_of_week, color='skyblue')\n",
    "plt.xlabel('Day of the Week')\n",
    "plt.ylabel('Number of Crimes')\n",
    "plt.title('Number of Crimes by Day of the Week')\n",
    "plt.xticks(rotation=45)\n",
    "plt.show()"
   ]
  },
  {
   "cell_type": "markdown",
   "metadata": {},
   "source": [
    "Heat map comparing the day of the week and the crime category along with the frequency of the crime committed"
   ]
  },
  {
   "cell_type": "code",
   "execution_count": null,
   "metadata": {},
   "outputs": [],
   "source": [
    "training_data['Dates'] = pd.to_datetime(training_data['Dates'])\n",
    "training_data['DayOfWeek'] = training_data['Dates'].dt.day_name()\n",
    "crime_pivot_table_day_of_week = pd.pivot_table(training_data, index=\"Category\", columns=\"DayOfWeek\", aggfunc=len, fill_value=0)[\"Dates\"]\n",
    "days_order = [\"Monday\", \"Tuesday\", \"Wednesday\", \"Thursday\", \"Friday\", \"Saturday\", \"Sunday\"]\n",
    "crime_pivot_table_day_of_week = crime_pivot_table_day_of_week[days_order]\n",
    "\n",
    "# Plot the heatmap\n",
    "plt.figure(figsize=(14, 10))\n",
    "heatmap_day_of_week = sns.heatmap(crime_pivot_table_day_of_week, cmap='viridis')\n",
    "heatmap_day_of_week.set_xticklabels(heatmap_day_of_week.get_xticklabels(), rotation=45, horizontalalignment='right')\n",
    "heatmap_day_of_week.set_yticklabels(heatmap_day_of_week.get_yticklabels(), rotation=0)\n",
    "plt.title('Number of Crimes per Crime Category and Day of the Week')\n",
    "plt.show()"
   ]
  },
  {
   "cell_type": "markdown",
   "metadata": {},
   "source": [
    "Heat map comparing day of week and the district the crime was committed in along with the frequency of the crime"
   ]
  },
  {
   "cell_type": "code",
   "execution_count": null,
   "metadata": {},
   "outputs": [],
   "source": [
    "training_data['Dates'] = pd.to_datetime(training_data['Dates'])\n",
    "training_data['DayOfWeek'] = training_data['Dates'].dt.day_name()\n",
    "crime_pivot_table_day_of_week_district = pd.pivot_table(training_data, index=\"PdDistrict\", columns=\"DayOfWeek\", aggfunc=len, fill_value=0)[\"Dates\"]\n",
    "\n",
    "days_order = [\"Monday\", \"Tuesday\", \"Wednesday\", \"Thursday\", \"Friday\", \"Saturday\", \"Sunday\"]\n",
    "crime_pivot_table_day_of_week_district = crime_pivot_table_day_of_week_district[days_order]\n",
    "\n",
    "# Plot the heatmap\n",
    "plt.figure(figsize=(14, 10))\n",
    "heatmap_day_of_week_district = sns.heatmap(crime_pivot_table_day_of_week_district, cmap='viridis')\n",
    "heatmap_day_of_week_district.set_xticklabels(heatmap_day_of_week_district.get_xticklabels(), rotation=45, horizontalalignment='right')\n",
    "heatmap_day_of_week_district.set_yticklabels(heatmap_day_of_week_district.get_yticklabels(), rotation=0)\n",
    "plt.title('Number of Crimes per Police District and Day of the Week')\n",
    "plt.show()"
   ]
  },
  {
   "cell_type": "markdown",
   "metadata": {},
   "source": [
    "Comparing the number of crimes committed with the day of the month"
   ]
  },
  {
   "cell_type": "code",
   "execution_count": null,
   "metadata": {},
   "outputs": [],
   "source": [
    "training_data['Dates'] = pd.to_datetime(training_data['Dates'])\n",
    "training_data['DayOfMonth'] = training_data['Dates'].dt.day\n",
    "crimes_by_day_of_month = training_data['DayOfMonth'].value_counts().sort_index()\n",
    "\n",
    "# Plotting the data on a bar chart\n",
    "plt.figure(figsize=(14, 6))\n",
    "sns.barplot(x=crimes_by_day_of_month.index, y=crimes_by_day_of_month, color='skyblue')\n",
    "plt.xlabel('Day of the Month')\n",
    "plt.ylabel('Number of Crimes')\n",
    "plt.title('Number of Crimes by Day of the Month')\n",
    "plt.xticks(rotation=45)\n",
    "plt.show()"
   ]
  },
  {
   "cell_type": "markdown",
   "metadata": {},
   "source": [
    "Heat map comparing day of month and category of crime along with the frequency of the crimes committed\n",
    "\n",
    "-drop off towards end of month is probably because not every month has a 31st day"
   ]
  },
  {
   "cell_type": "code",
   "execution_count": null,
   "metadata": {},
   "outputs": [],
   "source": [
    "training_data['Dates'] = pd.to_datetime(training_data['Dates'])\n",
    "training_data['DayOfMonth'] = training_data['Dates'].dt.day\n",
    "crime_pivot_table_day_of_month = pd.pivot_table(training_data, index=\"Category\", columns=\"DayOfMonth\", aggfunc=len, fill_value=0)[\"Dates\"]\n",
    "crime_pivot_table_day_of_month = crime_pivot_table_day_of_month.sort_index(axis=1)\n",
    "\n",
    "# Plot the heatmap\n",
    "plt.figure(figsize=(14, 10))\n",
    "heatmap_day_of_month = sns.heatmap(crime_pivot_table_day_of_month, cmap='viridis')\n",
    "heatmap_day_of_month.set_xticklabels(heatmap_day_of_month.get_xticklabels(), rotation=45, horizontalalignment='right')\n",
    "heatmap_day_of_month.set_yticklabels(heatmap_day_of_month.get_yticklabels(), rotation=0)\n",
    "plt.title('Number of Crimes per Crime Category and Day of the Month')\n",
    "plt.show()"
   ]
  },
  {
   "cell_type": "markdown",
   "metadata": {},
   "source": [
    "Heat map comparing day of month and district\n",
    "\n",
    "-drop off towards end of month is probably because not every month has a 31st day"
   ]
  },
  {
   "cell_type": "code",
   "execution_count": null,
   "metadata": {},
   "outputs": [],
   "source": [
    "training_data['Dates'] = pd.to_datetime(training_data['Dates'])\n",
    "training_data['DayOfMonth'] = training_data['Dates'].dt.day\n",
    "crime_pivot_table_day_of_month_district = pd.pivot_table(training_data, index=\"PdDistrict\", columns=\"DayOfMonth\", aggfunc=len, fill_value=0)[\"Dates\"]\n",
    "crime_pivot_table_day_of_month_district = crime_pivot_table_day_of_month_district.sort_index(axis=1)\n",
    "\n",
    "# Plot the heatmap\n",
    "plt.figure(figsize=(14, 10))\n",
    "heatmap_day_of_month_district = sns.heatmap(crime_pivot_table_day_of_month_district, cmap='viridis')\n",
    "heatmap_day_of_month_district.set_xticklabels(heatmap_day_of_month_district.get_xticklabels(), rotation=45, horizontalalignment='right')\n",
    "heatmap_day_of_month_district.set_yticklabels(heatmap_day_of_month_district.get_yticklabels(), rotation=0)\n",
    "plt.title('Number of Crimes per Police District and Day of the Month')\n",
    "plt.show()\n"
   ]
  },
  {
   "cell_type": "markdown",
   "metadata": {},
   "source": [
    "Bar chart comparing the number of crimes committed and the month of the year"
   ]
  },
  {
   "cell_type": "code",
   "execution_count": null,
   "metadata": {},
   "outputs": [],
   "source": [
    "training_data['Dates'] = pd.to_datetime(training_data['Dates'])\n",
    "training_data['Month'] = training_data['Dates'].dt.month\n",
    "crimes_by_month = training_data['Month'].value_counts().sort_index()\n",
    "\n",
    "# Plotting the data on a bar chart\n",
    "plt.figure(figsize=(10, 6))\n",
    "sns.barplot(x=crimes_by_month.index, y=crimes_by_month, color='skyblue')\n",
    "plt.xlabel('Month of the Year')\n",
    "plt.ylabel('Number of Crimes')\n",
    "plt.title('Number of Crimes by Month of the Year')\n",
    "plt.xticks(rotation=0)\n",
    "plt.show()"
   ]
  },
  {
   "cell_type": "markdown",
   "metadata": {},
   "source": [
    "Heat map comparing the category of crime committed with the month of the year and the frequency of the crime"
   ]
  },
  {
   "cell_type": "code",
   "execution_count": null,
   "metadata": {},
   "outputs": [],
   "source": [
    "training_data['Dates'] = pd.to_datetime(training_data['Dates'])\n",
    "training_data['Month'] = training_data['Dates'].dt.month\n",
    "crime_pivot_table_month = pd.pivot_table(training_data, index=\"Category\", columns=\"Month\", aggfunc=len, fill_value=0)[\"Dates\"]\n",
    "crime_pivot_table_month = crime_pivot_table_month.sort_index(axis=1)\n",
    "\n",
    "# Plot the heatmap\n",
    "plt.figure(figsize=(14, 10))\n",
    "heatmap_month = sns.heatmap(crime_pivot_table_month, cmap='viridis')\n",
    "heatmap_month.set_xticklabels(heatmap_month.get_xticklabels(), rotation=45, horizontalalignment='right')\n",
    "heatmap_month.set_yticklabels(heatmap_month.get_yticklabels(), rotation=0)\n",
    "plt.title('Number of Crimes per Crime Category and Month of the Year')\n",
    "plt.show()"
   ]
  },
  {
   "cell_type": "markdown",
   "metadata": {},
   "source": [
    "Heat map comparing the police district that the crime was committed in and the month of the year along with the frequency of the crime"
   ]
  },
  {
   "cell_type": "code",
   "execution_count": null,
   "metadata": {},
   "outputs": [],
   "source": [
    "training_data['Dates'] = pd.to_datetime(training_data['Dates'])\n",
    "training_data['Month'] = training_data['Dates'].dt.month\n",
    "crime_pivot_table_month_district = pd.pivot_table(training_data, index=\"PdDistrict\", columns=\"Month\", aggfunc=len, fill_value=0)[\"Dates\"]\n",
    "crime_pivot_table_month_district = crime_pivot_table_month_district.sort_index(axis=1)\n",
    "\n",
    "# Plot the heatmap\n",
    "plt.figure(figsize=(14, 10))\n",
    "heatmap_month_district = sns.heatmap(crime_pivot_table_month_district, cmap='viridis')\n",
    "heatmap_month_district.set_xticklabels(heatmap_month_district.get_xticklabels(), rotation=45, horizontalalignment='right')\n",
    "heatmap_month_district.set_yticklabels(heatmap_month_district.get_yticklabels(), rotation=0)\n",
    "plt.title('Number of Crimes per Police District and Month of the Year')\n",
    "plt.show()\n"
   ]
  },
  {
   "cell_type": "markdown",
   "metadata": {},
   "source": [
    "A bar graph comparing the number of crimes committed accross all years\n",
    "\n",
    "- 2015 data is only partially in the training data, the other half is in the test data so it wont be acurate"
   ]
  },
  {
   "cell_type": "code",
   "execution_count": null,
   "metadata": {},
   "outputs": [],
   "source": [
    "training_data['Dates'] = pd.to_datetime(training_data['Dates'])\n",
    "training_data['Year'] = training_data['Dates'].dt.year\n",
    "crimes_by_year = training_data['Year'].value_counts().sort_index()\n",
    "\n",
    "# Plotting the data on a bar chart\n",
    "plt.figure(figsize=(10, 6))\n",
    "sns.barplot(x=crimes_by_year.index, y=crimes_by_year, color='skyblue')\n",
    "plt.xlabel('Year')\n",
    "plt.ylabel('Number of Crimes')\n",
    "plt.title('Number of Crimes Across All Years')\n",
    "plt.xticks(rotation=0)\n",
    "plt.show()\n"
   ]
  },
  {
   "cell_type": "markdown",
   "metadata": {},
   "source": [
    "Bar graph of the top 5 crime categories by count"
   ]
  },
  {
   "cell_type": "code",
   "execution_count": null,
   "metadata": {},
   "outputs": [],
   "source": [
    "crime_counts = training_data['Category'].value_counts()\n",
    "top5_crimes = crime_counts.head(5)\n",
    "\n",
    "# Plotting the data on a bar chart\n",
    "plt.figure(figsize=(12, 8))\n",
    "sns.barplot(x=top5_crimes.index, y=top5_crimes, color='skyblue')\n",
    "plt.xlabel('Crime Category')\n",
    "plt.ylabel('Number of Crimes')\n",
    "plt.title('Top 5 Crimes by Count')\n",
    "plt.xticks(rotation=45)\n",
    "plt.show()"
   ]
  },
  {
   "cell_type": "markdown",
   "metadata": {},
   "source": [
    "Heat map of top 5 crime categories by district along with the frequency of the crimes"
   ]
  },
  {
   "cell_type": "code",
   "execution_count": null,
   "metadata": {},
   "outputs": [],
   "source": [
    "crime_counts = training_data['Category'].value_counts()\n",
    "top5_crimes = crime_counts.head(5).index\n",
    "top5_data = training_data[training_data['Category'].isin(top5_crimes)]\n",
    "crime_pivot_table_district_top5 = pd.pivot_table(top5_data, index=\"PdDistrict\", columns=\"Category\", aggfunc=len, fill_value=0)[\"Dates\"]\n",
    "crime_pivot_table_district_top5 = crime_pivot_table_district_top5[top5_crimes]\n",
    "\n",
    "# Plot the heatmap\n",
    "plt.figure(figsize=(14, 10))\n",
    "heatmap_district_top5 = sns.heatmap(crime_pivot_table_district_top5, cmap='viridis')\n",
    "heatmap_district_top5.set_xticklabels(heatmap_district_top5.get_xticklabels(), rotation=45, horizontalalignment='right')\n",
    "heatmap_district_top5.set_yticklabels(heatmap_district_top5.get_yticklabels(), rotation=0)\n",
    "plt.title('Number of Top 5 Crimes per Police District')\n",
    "plt.show()\n"
   ]
  }
 ],
 "metadata": {
  "kernelspec": {
   "display_name": "Python 3",
   "language": "python",
   "name": "python3"
  },
  "language_info": {
   "codemirror_mode": {
    "name": "ipython",
    "version": 3
   },
   "file_extension": ".py",
   "mimetype": "text/x-python",
   "name": "python",
   "nbconvert_exporter": "python",
   "pygments_lexer": "ipython3",
   "version": "3.9.5"
  }
 },
 "nbformat": 4,
 "nbformat_minor": 2
}
